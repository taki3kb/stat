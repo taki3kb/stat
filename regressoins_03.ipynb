{
 "cells": [
  {
   "attachments": {},
   "cell_type": "markdown",
   "id": "b4a938ec-5b46-4d02-86b4-f28949aad302",
   "metadata": {},
   "source": [
    "# 最小二乗法のイメージ\n",
    "\n",
    "2024/10/28 K.Takiuchi\n",
    "\n",
    "直線回帰と最小自乗法の説明\n",
    "\n",
    "データ\n",
    "\n",
    "$$\n",
    "\\{ (x_1,y_1), (x_2,y_2), \\cdots, (x_n,y_n)\\}\n",
    "$$\n",
    "\n",
    "について，データが従っていそうな，もっともらしい直線の式を求めたい\n",
    "\n",
    "$$\n",
    "\\hat{y}_i = a x_i + b\\\\\n",
    "$$\n",
    "この式の$a$と$b$を求めたい\n",
    "\n",
    "残差平方和の式\n",
    "\n",
    "$$\n",
    "S_e=\\sum_{i=0}^{n}(y_i-\\hat{y}_i)^2\n",
    "$$\n",
    "を最小にする $a,b$ の組が求めたい式と考えてよさそうである\n",
    "\n",
    "Jupyter Lab やGoogle Colab などで実行するとスライダーで直線が変更できる。\n",
    "傾き(Slope)と切片(Intercept)を動かして直線と灰色の残差の関係$S_e$をみてみよう。\n",
    "\n",
    "[\\[Google Colab で実行\\]](https://colab.research.google.com/github/taki3kb/stat/blob/main/regressoins_03.ipynb)\n",
    "![liner_reg](./liner_reg.png)"
   ]
  },
  {
   "cell_type": "code",
   "execution_count": 1,
   "id": "bed4cfac-d79d-405d-a4d6-6e9e92471f0c",
   "metadata": {
    "scrolled": true
   },
   "outputs": [
    {
     "data": {
      "application/vnd.jupyter.widget-view+json": {
       "model_id": "308aa994a401404f9c89cd41528f2174",
       "version_major": 2,
       "version_minor": 0
      },
      "text/plain": [
       "interactive(children=(FloatSlider(value=3.0, description='Slope', max=10.0, min=-10.0), FloatSlider(value=5.0,…"
      ]
     },
     "metadata": {},
     "output_type": "display_data"
    }
   ],
   "source": [
    "import numpy as np\n",
    "import matplotlib.pyplot as plt\n",
    "from ipywidgets import interactive, FloatSlider\n",
    "from IPython.display import display\n",
    "\n",
    "# データの準備\n",
    "np.random.seed(42)\n",
    "x = np.linspace(0, 10, 20)  # データ点の数を20に\n",
    "y = 3 * x + 5 + np.random.normal(0, 5, 20)  # y = 3x + 5 をベースの式としてノイズを追加\n",
    "\n",
    "# 最小にするa,bの値\n",
    "n = len(x)\n",
    "a = (np.dot(x, y) - y.sum() * x.sum() / n) / ((x ** 2).sum() - x.sum()**2 / n)\n",
    "b = (y.sum() - a * x.sum()) / n\n",
    "ys = a * x + b\n",
    "\n",
    "# 誤差平方和を計算する関数\n",
    "def residuals_sum_of_squares(y_true, y_pred):\n",
    "    return np.sum((y_true - y_pred) ** 2)\n",
    "\n",
    "# 散布図と回帰直線を描画する関数\n",
    "def plot_regression_line(slope=3.0, intercept=5.0):\n",
    "    y_pred = slope * x + intercept\n",
    "\n",
    "    # 図の初期化\n",
    "    fig, ax = plt.subplots(figsize=(8, 6)) \n",
    "\n",
    "    # 散布図の描画\n",
    "    ax.scatter(x, y, label='Data points')\n",
    "\n",
    "    # 回帰直線の描画\n",
    "    ax.plot(x, y_pred, color='red', label=f'Line: y = {slope:.2f}x + {intercept:.2f}')\n",
    "\n",
    "    # 誤差線の描画\n",
    "    for xi, yi, ypi in zip(x, y, y_pred):\n",
    "        ax.plot([xi, xi], [yi, ypi], color='gray', linestyle='--')\n",
    "\n",
    "    # 誤差平方和の表示\n",
    "    rss = residuals_sum_of_squares(y, y_pred)\n",
    "    ax.set_title(f'Sum of Squared Errors: {rss:.2f}')\n",
    "    ax.legend()\n",
    "    ax.set_xlabel('x')\n",
    "    ax.set_ylabel('y')\n",
    "\n",
    "    # グラフの範囲を固定\n",
    "    ax.set_xlim(0, 10)\n",
    "    ax.set_ylim(min(y) - 10, max(y) + 10)\n",
    "\n",
    "    # 図全体にテキストを追加 (aとbの値を表示)\n",
    "    fig.text(0.5, 0.01, f'Regression model: a = {a:.2f}, b = {b:.2f}, Sum of Squared Errors = {sse:.2f}', \n",
    "             ha='center', fontsize=10, color='gray')\n",
    "    \n",
    "    ax.grid(True)\n",
    "    plt.show()\n",
    "\n",
    "sse = residuals_sum_of_squares(y, ys)\n",
    "\n",
    "# インタラクティブなウィジェットの作成\n",
    "slope_slider = FloatSlider(value=3.0, min=-10, max=10, step=0.1, description='Slope')\n",
    "intercept_slider = FloatSlider(value=5.0, min=-5, max=15, step=0.1, description='Intercept')\n",
    "\n",
    "interactive_plot = interactive(plot_regression_line, slope=slope_slider, intercept=intercept_slider)\n",
    "\n",
    "# インタラクティブなグラフの表示\n",
    "display(interactive_plot)\n"
   ]
  }
 ],
 "metadata": {
  "kernelspec": {
   "display_name": "Python 3 (ipykernel)",
   "language": "python",
   "name": "python3"
  },
  "language_info": {
   "codemirror_mode": {
    "name": "ipython",
    "version": 3
   },
   "file_extension": ".py",
   "mimetype": "text/x-python",
   "name": "python",
   "nbconvert_exporter": "python",
   "pygments_lexer": "ipython3",
   "version": "3.11.5"
  }
 },
 "nbformat": 4,
 "nbformat_minor": 5
}
